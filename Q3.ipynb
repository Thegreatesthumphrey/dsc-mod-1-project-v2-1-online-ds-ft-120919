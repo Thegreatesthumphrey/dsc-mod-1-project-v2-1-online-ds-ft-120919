{
 "cells": [
  {
   "cell_type": "markdown",
   "metadata": {},
   "source": [
    "# 3\n",
    "## Exploring movie release days and months"
   ]
  },
  {
   "cell_type": "markdown",
   "metadata": {},
   "source": [
    "### Importing necessary libraries"
   ]
  },
  {
   "cell_type": "code",
   "execution_count": 1,
   "metadata": {},
   "outputs": [],
   "source": [
    "from importlib import reload\n",
    "\n",
    "import sqlite3\n",
    "import pandas as pd\n",
    "import numpy as np\n",
    "\n",
    "\n",
    "import matplotlib.pyplot as plt\n",
    "\n",
    "import seaborn as sns"
   ]
  },
  {
   "cell_type": "code",
   "execution_count": 2,
   "metadata": {},
   "outputs": [],
   "source": [
    "conn = sqlite3.connect(\"movies_db.sqlite\")\n",
    "cur = conn.cursor()"
   ]
  },
  {
   "cell_type": "code",
   "execution_count": 3,
   "metadata": {},
   "outputs": [
    {
     "name": "stdout",
     "output_type": "stream",
     "text": [
      "('imdb_title_crew',)\n",
      "('imdb_title_ratings',)\n",
      "('imdb_title_principals',)\n",
      "('rt_movie_info',)\n",
      "('rt_reviews',)\n",
      "('tmdb_movies',)\n",
      "('tn_movie_budgets',)\n",
      "('imdb_name_basics',)\n",
      "('imdb_title_akas',)\n",
      "('bom_movie_gross',)\n",
      "('imdb_title_basics',)\n"
     ]
    }
   ],
   "source": [
    "for row in cur.execute(\"SELECT name FROM sqlite_master WHERE type='table';\"):\n",
    "    print(row)"
   ]
  },
  {
   "cell_type": "code",
   "execution_count": 5,
   "metadata": {},
   "outputs": [
    {
     "data": {
      "text/html": [
       "<div>\n",
       "<style scoped>\n",
       "    .dataframe tbody tr th:only-of-type {\n",
       "        vertical-align: middle;\n",
       "    }\n",
       "\n",
       "    .dataframe tbody tr th {\n",
       "        vertical-align: top;\n",
       "    }\n",
       "\n",
       "    .dataframe thead th {\n",
       "        text-align: right;\n",
       "    }\n",
       "</style>\n",
       "<table border=\"1\" class=\"dataframe\">\n",
       "  <thead>\n",
       "    <tr style=\"text-align: right;\">\n",
       "      <th></th>\n",
       "      <th>index</th>\n",
       "      <th>id</th>\n",
       "      <th>release_date</th>\n",
       "      <th>movie</th>\n",
       "      <th>production_budget</th>\n",
       "      <th>domestic_gross</th>\n",
       "      <th>worldwide_gross</th>\n",
       "      <th>domestic_net</th>\n",
       "      <th>worldwide_net</th>\n",
       "      <th>release_day</th>\n",
       "      <th>...</th>\n",
       "      <th>id</th>\n",
       "      <th>original_language</th>\n",
       "      <th>original_title</th>\n",
       "      <th>popularity</th>\n",
       "      <th>release_date</th>\n",
       "      <th>title</th>\n",
       "      <th>vote_average</th>\n",
       "      <th>vote_count</th>\n",
       "      <th>release_day</th>\n",
       "      <th>release_month</th>\n",
       "    </tr>\n",
       "  </thead>\n",
       "  <tbody>\n",
       "    <tr>\n",
       "      <td>0</td>\n",
       "      <td>0</td>\n",
       "      <td>1</td>\n",
       "      <td>2010-11-19 00:00:00</td>\n",
       "      <td>Avatar</td>\n",
       "      <td>425000000</td>\n",
       "      <td>760507625</td>\n",
       "      <td>2776345279</td>\n",
       "      <td>335507625</td>\n",
       "      <td>2351345279</td>\n",
       "      <td>4.0</td>\n",
       "      <td>...</td>\n",
       "      <td>19995</td>\n",
       "      <td>en</td>\n",
       "      <td>Avatar</td>\n",
       "      <td>26.526</td>\n",
       "      <td>2009-12-18 00:00:00</td>\n",
       "      <td>Avatar</td>\n",
       "      <td>7.4</td>\n",
       "      <td>18676</td>\n",
       "      <td>4</td>\n",
       "      <td>12</td>\n",
       "    </tr>\n",
       "    <tr>\n",
       "      <td>1</td>\n",
       "      <td>1</td>\n",
       "      <td>2</td>\n",
       "      <td>2010-03-26 00:00:00</td>\n",
       "      <td>Pirates of the Caribbean: On Stranger Tides</td>\n",
       "      <td>410600000</td>\n",
       "      <td>241063875</td>\n",
       "      <td>1045663875</td>\n",
       "      <td>-169536125</td>\n",
       "      <td>635063875</td>\n",
       "      <td>4.0</td>\n",
       "      <td>...</td>\n",
       "      <td>1865</td>\n",
       "      <td>en</td>\n",
       "      <td>Pirates of the Caribbean: On Stranger Tides</td>\n",
       "      <td>30.579</td>\n",
       "      <td>2011-05-20 00:00:00</td>\n",
       "      <td>Pirates of the Caribbean: On Stranger Tides</td>\n",
       "      <td>6.4</td>\n",
       "      <td>8571</td>\n",
       "      <td>4</td>\n",
       "      <td>5</td>\n",
       "    </tr>\n",
       "    <tr>\n",
       "      <td>2</td>\n",
       "      <td>3</td>\n",
       "      <td>4</td>\n",
       "      <td>1995-11-22 00:00:00</td>\n",
       "      <td>Avengers: Age of Ultron</td>\n",
       "      <td>330600000</td>\n",
       "      <td>459005868</td>\n",
       "      <td>1403013963</td>\n",
       "      <td>128405868</td>\n",
       "      <td>1072413963</td>\n",
       "      <td>2.0</td>\n",
       "      <td>...</td>\n",
       "      <td>99861</td>\n",
       "      <td>en</td>\n",
       "      <td>Avengers: Age of Ultron</td>\n",
       "      <td>44.383</td>\n",
       "      <td>2015-05-01 00:00:00</td>\n",
       "      <td>Avengers: Age of Ultron</td>\n",
       "      <td>7.3</td>\n",
       "      <td>13457</td>\n",
       "      <td>4</td>\n",
       "      <td>5</td>\n",
       "    </tr>\n",
       "    <tr>\n",
       "      <td>3</td>\n",
       "      <td>6</td>\n",
       "      <td>7</td>\n",
       "      <td>2009-12-18 00:00:00</td>\n",
       "      <td>Avengers: Infinity War</td>\n",
       "      <td>300000000</td>\n",
       "      <td>678815482</td>\n",
       "      <td>2048134200</td>\n",
       "      <td>378815482</td>\n",
       "      <td>1748134200</td>\n",
       "      <td>4.0</td>\n",
       "      <td>...</td>\n",
       "      <td>299536</td>\n",
       "      <td>en</td>\n",
       "      <td>Avengers: Infinity War</td>\n",
       "      <td>80.773</td>\n",
       "      <td>2018-04-27 00:00:00</td>\n",
       "      <td>Avengers: Infinity War</td>\n",
       "      <td>8.3</td>\n",
       "      <td>13948</td>\n",
       "      <td>4</td>\n",
       "      <td>4</td>\n",
       "    </tr>\n",
       "    <tr>\n",
       "      <td>4</td>\n",
       "      <td>8</td>\n",
       "      <td>9</td>\n",
       "      <td>2010-07-09 00:00:00</td>\n",
       "      <td>Justice League</td>\n",
       "      <td>300000000</td>\n",
       "      <td>229024295</td>\n",
       "      <td>655945209</td>\n",
       "      <td>-70975705</td>\n",
       "      <td>355945209</td>\n",
       "      <td>4.0</td>\n",
       "      <td>...</td>\n",
       "      <td>141052</td>\n",
       "      <td>en</td>\n",
       "      <td>Justice League</td>\n",
       "      <td>34.953</td>\n",
       "      <td>2017-11-17 00:00:00</td>\n",
       "      <td>Justice League</td>\n",
       "      <td>6.2</td>\n",
       "      <td>7510</td>\n",
       "      <td>4</td>\n",
       "      <td>11</td>\n",
       "    </tr>\n",
       "  </tbody>\n",
       "</table>\n",
       "<p>5 rows × 24 columns</p>\n",
       "</div>"
      ],
      "text/plain": [
       "   index  id         release_date  \\\n",
       "0      0   1  2010-11-19 00:00:00   \n",
       "1      1   2  2010-03-26 00:00:00   \n",
       "2      3   4  1995-11-22 00:00:00   \n",
       "3      6   7  2009-12-18 00:00:00   \n",
       "4      8   9  2010-07-09 00:00:00   \n",
       "\n",
       "                                         movie  production_budget  \\\n",
       "0                                       Avatar          425000000   \n",
       "1  Pirates of the Caribbean: On Stranger Tides          410600000   \n",
       "2                      Avengers: Age of Ultron          330600000   \n",
       "3                       Avengers: Infinity War          300000000   \n",
       "4                               Justice League          300000000   \n",
       "\n",
       "   domestic_gross  worldwide_gross  domestic_net  worldwide_net release_day  \\\n",
       "0       760507625       2776345279     335507625     2351345279         4.0   \n",
       "1       241063875       1045663875    -169536125      635063875         4.0   \n",
       "2       459005868       1403013963     128405868     1072413963         2.0   \n",
       "3       678815482       2048134200     378815482     1748134200         4.0   \n",
       "4       229024295        655945209     -70975705      355945209         4.0   \n",
       "\n",
       "   ...      id  original_language  \\\n",
       "0  ...   19995                 en   \n",
       "1  ...    1865                 en   \n",
       "2  ...   99861                 en   \n",
       "3  ...  299536                 en   \n",
       "4  ...  141052                 en   \n",
       "\n",
       "                                original_title popularity  \\\n",
       "0                                       Avatar     26.526   \n",
       "1  Pirates of the Caribbean: On Stranger Tides     30.579   \n",
       "2                      Avengers: Age of Ultron     44.383   \n",
       "3                       Avengers: Infinity War     80.773   \n",
       "4                               Justice League     34.953   \n",
       "\n",
       "          release_date                                        title  \\\n",
       "0  2009-12-18 00:00:00                                       Avatar   \n",
       "1  2011-05-20 00:00:00  Pirates of the Caribbean: On Stranger Tides   \n",
       "2  2015-05-01 00:00:00                      Avengers: Age of Ultron   \n",
       "3  2018-04-27 00:00:00                       Avengers: Infinity War   \n",
       "4  2017-11-17 00:00:00                               Justice League   \n",
       "\n",
       "  vote_average  vote_count release_day release_month  \n",
       "0          7.4       18676           4            12  \n",
       "1          6.4        8571           4             5  \n",
       "2          7.3       13457           4             5  \n",
       "3          8.3       13948           4             4  \n",
       "4          6.2        7510           4            11  \n",
       "\n",
       "[5 rows x 24 columns]"
      ]
     },
     "execution_count": 5,
     "metadata": {},
     "output_type": "execute_result"
    }
   ],
   "source": [
    "cur.execute('''SELECT *\n",
    "               FROM tn_movie_budgets\n",
    "               JOIN tmdb_movies\n",
    "               ON tn_movie_budgets.movie = tmdb_movies.original_title\n",
    "             ''')\n",
    "df = pd.DataFrame(cur.fetchall()) #Take results and create dataframe\n",
    "df.columns = [i[0] for i in cur.description]\n",
    "df.head()"
   ]
  },
  {
   "cell_type": "code",
   "execution_count": 7,
   "metadata": {},
   "outputs": [
    {
     "data": {
      "text/plain": [
       "Index(['index', 'id', 'release_date', 'movie', 'production_budget',\n",
       "       'domestic_gross', 'worldwide_gross', 'domestic_net', 'worldwide_net',\n",
       "       'release_day', 'release_month', 'level_0', 'index', 'genre_ids', 'id',\n",
       "       'original_language', 'original_title', 'popularity', 'release_date',\n",
       "       'title', 'vote_average', 'vote_count', 'release_day', 'release_month'],\n",
       "      dtype='object')"
      ]
     },
     "execution_count": 7,
     "metadata": {},
     "output_type": "execute_result"
    }
   ],
   "source": [
    "df.columns"
   ]
  },
  {
   "cell_type": "code",
   "execution_count": 8,
   "metadata": {},
   "outputs": [],
   "source": [
    "df.columns = ['index', 'id', 'release_date_1', 'movie', 'production_budget',\n",
    "       'domestic_gross', 'worldwide_gross', 'domestic_net', 'worldwide_net',\n",
    "       'release_day_1', 'release_month_1', 'level_0', 'index', 'genre_ids', 'id',\n",
    "       'original_language', 'original_title', 'popularity', 'release_date_2',\n",
    "       'title', 'vote_average', 'vote_count', 'release_day_2', 'release_month_2']"
   ]
  },
  {
   "cell_type": "markdown",
   "metadata": {},
   "source": [
    "## Release Day v. Popularity"
   ]
  },
  {
   "cell_type": "code",
   "execution_count": 42,
   "metadata": {},
   "outputs": [
    {
     "data": {
      "image/png": "[encoded data removed]",
      "text/plain": [
       "<Figure size 936x576 with 1 Axes>"
      ]
     },
     "metadata": {},
     "output_type": "display_data"
    }
   ],
   "source": [
    "sns.set_style({'grid.color': 'black', 'axes.facecolor': 'white', 'figure.facecolor': 'white',\n",
    "               'axes.edgecolor': 'black','axes.labelcolor': 'white', 'xtick.color': 'black',\n",
    "               'ytick.color': 'black'})\n",
    "\n",
    "plt.figure(figsize=(13, 8))\n",
    "sns.boxplot(x='release_day_1', y='popularity', data=df)\n",
    "plt.show()"
   ]
  },
  {
   "cell_type": "markdown",
   "metadata": {},
   "source": [
    "## Release Day v. Worldwide Gross"
   ]
  },
  {
   "cell_type": "code",
   "execution_count": 43,
   "metadata": {},
   "outputs": [
    {
     "data": {
      "image/png": "[encoded data removed]",
      "text/plain": [
       "<Figure size 936x576 with 1 Axes>"
      ]
     },
     "metadata": {},
     "output_type": "display_data"
    }
   ],
   "source": [
    "sns.set_style({'grid.color': 'black', 'axes.facecolor': 'white', 'figure.facecolor': 'white',\n",
    "               'axes.edgecolor': 'black','axes.labelcolor': 'white', 'xtick.color': 'black',\n",
    "               'ytick.color': 'black'})\n",
    "\n",
    "plt.figure(figsize=(13, 8))\n",
    "sns.boxplot(x='release_day_1', y='worldwide_gross', data=df)\n",
    "plt.show()"
   ]
  },
  {
   "cell_type": "markdown",
   "metadata": {},
   "source": [
    "## Release Month v. Popularity"
   ]
  },
  {
   "cell_type": "code",
   "execution_count": 44,
   "metadata": {},
   "outputs": [
    {
     "data": {
      "image/png": "[encoded data removed]",
      "text/plain": [
       "<Figure size 936x576 with 1 Axes>"
      ]
     },
     "metadata": {},
     "output_type": "display_data"
    }
   ],
   "source": [
    "sns.set_style({'grid.color': 'black', 'axes.facecolor': 'white', 'figure.facecolor': 'white',\n",
    "               'axes.edgecolor': 'black','axes.labelcolor': 'white', 'xtick.color': 'black',\n",
    "               'ytick.color': 'black'})\n",
    "\n",
    "plt.figure(figsize=(13, 8))\n",
    "sns.boxplot(x='release_month_1', y='popularity', data=df)\n",
    "plt.show()"
   ]
  },
  {
   "cell_type": "markdown",
   "metadata": {},
   "source": [
    "## Release Month v. Worldwide Gross"
   ]
  },
  {
   "cell_type": "code",
   "execution_count": 45,
   "metadata": {
    "scrolled": true
   },
   "outputs": [
    {
     "data": {
      "image/png": "[encoded data removed]",
      "text/plain": [
       "<Figure size 936x576 with 1 Axes>"
      ]
     },
     "metadata": {},
     "output_type": "display_data"
    }
   ],
   "source": [
    "sns.set_style({'grid.color': 'black', 'axes.facecolor': 'white', 'figure.facecolor': 'white',\n",
    "               'axes.edgecolor': 'black','axes.labelcolor': 'white', 'xtick.color': 'black',\n",
    "               'ytick.color': 'black'})\n",
    "\n",
    "plt.figure(figsize=(13, 8))\n",
    "sns.boxplot(x='release_month_1', y='worldwide_gross', data=df)\n",
    "plt.show()"
   ]
  },
  {
   "cell_type": "code",
   "execution_count": 46,
   "metadata": {},
   "outputs": [
    {
     "data": {
      "image/png": "[encoded data removed]",
      "text/plain": [
       "<Figure size 936x576 with 1 Axes>"
      ]
     },
     "metadata": {},
     "output_type": "display_data"
    }
   ],
   "source": [
    "plt.figure(figsize=(13, 8))\n",
    "sns.boxplot(x='release_day_1', y='worldwide_gross', data=df)\n",
    "plt.show()"
   ]
  },
  {
   "cell_type": "code",
   "execution_count": 41,
   "metadata": {},
   "outputs": [
    {
     "data": {
      "text/plain": [
       "123288459.15951742"
      ]
     },
     "execution_count": 41,
     "metadata": {},
     "output_type": "execute_result"
    }
   ],
   "source": [
    "df['worldwide_gross'].mean()"
   ]
  },
  {
   "cell_type": "code",
   "execution_count": 40,
   "metadata": {},
   "outputs": [
    {
     "data": {
      "text/plain": [
       "224408031.7339068"
      ]
     },
     "execution_count": 40,
     "metadata": {},
     "output_type": "execute_result"
    }
   ],
   "source": [
    "df['worldwide_gross'].std()"
   ]
  },
  {
   "cell_type": "code",
   "execution_count": 39,
   "metadata": {},
   "outputs": [
    {
     "data": {
      "text/html": [
       "<div>\n",
       "<style scoped>\n",
       "    .dataframe tbody tr th:only-of-type {\n",
       "        vertical-align: middle;\n",
       "    }\n",
       "\n",
       "    .dataframe tbody tr th {\n",
       "        vertical-align: top;\n",
       "    }\n",
       "\n",
       "    .dataframe thead th {\n",
       "        text-align: right;\n",
       "    }\n",
       "</style>\n",
       "<table border=\"1\" class=\"dataframe\">\n",
       "  <thead>\n",
       "    <tr style=\"text-align: right;\">\n",
       "      <th></th>\n",
       "      <th>index</th>\n",
       "      <th>id</th>\n",
       "      <th>production_budget</th>\n",
       "      <th>domestic_gross</th>\n",
       "      <th>worldwide_gross</th>\n",
       "      <th>domestic_net</th>\n",
       "      <th>worldwide_net</th>\n",
       "      <th>release_month_1</th>\n",
       "      <th>level_0</th>\n",
       "      <th>index</th>\n",
       "      <th>id</th>\n",
       "      <th>popularity</th>\n",
       "      <th>vote_average</th>\n",
       "      <th>vote_count</th>\n",
       "      <th>release_day_2</th>\n",
       "      <th>release_month_2</th>\n",
       "    </tr>\n",
       "    <tr>\n",
       "      <th>release_day_1</th>\n",
       "      <th></th>\n",
       "      <th></th>\n",
       "      <th></th>\n",
       "      <th></th>\n",
       "      <th></th>\n",
       "      <th></th>\n",
       "      <th></th>\n",
       "      <th></th>\n",
       "      <th></th>\n",
       "      <th></th>\n",
       "      <th></th>\n",
       "      <th></th>\n",
       "      <th></th>\n",
       "      <th></th>\n",
       "      <th></th>\n",
       "      <th></th>\n",
       "    </tr>\n",
       "  </thead>\n",
       "  <tbody>\n",
       "    <tr>\n",
       "      <td>0.0</td>\n",
       "      <td>2563.612903</td>\n",
       "      <td>51.709677</td>\n",
       "      <td>3.560860e+07</td>\n",
       "      <td>5.561320e+07</td>\n",
       "      <td>1.297421e+08</td>\n",
       "      <td>2.000460e+07</td>\n",
       "      <td>9.413350e+07</td>\n",
       "      <td>6.370968</td>\n",
       "      <td>10449.685484</td>\n",
       "      <td>10449.685484</td>\n",
       "      <td>193112.000000</td>\n",
       "      <td>10.650331</td>\n",
       "      <td>6.156452</td>\n",
       "      <td>1776.298387</td>\n",
       "      <td>3.637097</td>\n",
       "      <td>6.629032</td>\n",
       "    </tr>\n",
       "    <tr>\n",
       "      <td>1.0</td>\n",
       "      <td>2746.140845</td>\n",
       "      <td>50.521127</td>\n",
       "      <td>3.350973e+07</td>\n",
       "      <td>4.562746e+07</td>\n",
       "      <td>1.023071e+08</td>\n",
       "      <td>1.211773e+07</td>\n",
       "      <td>6.879741e+07</td>\n",
       "      <td>7.323944</td>\n",
       "      <td>11737.912676</td>\n",
       "      <td>11737.912676</td>\n",
       "      <td>223014.825352</td>\n",
       "      <td>10.225532</td>\n",
       "      <td>6.187606</td>\n",
       "      <td>1509.642254</td>\n",
       "      <td>3.667606</td>\n",
       "      <td>6.819718</td>\n",
       "    </tr>\n",
       "    <tr>\n",
       "      <td>2.0</td>\n",
       "      <td>2699.434783</td>\n",
       "      <td>50.745342</td>\n",
       "      <td>4.548649e+07</td>\n",
       "      <td>6.770584e+07</td>\n",
       "      <td>1.615144e+08</td>\n",
       "      <td>2.221935e+07</td>\n",
       "      <td>1.160279e+08</td>\n",
       "      <td>7.204969</td>\n",
       "      <td>11267.229814</td>\n",
       "      <td>11267.229814</td>\n",
       "      <td>207870.776398</td>\n",
       "      <td>11.101578</td>\n",
       "      <td>6.330435</td>\n",
       "      <td>1975.950311</td>\n",
       "      <td>3.627329</td>\n",
       "      <td>6.850932</td>\n",
       "    </tr>\n",
       "    <tr>\n",
       "      <td>3.0</td>\n",
       "      <td>2716.989305</td>\n",
       "      <td>51.679144</td>\n",
       "      <td>4.317981e+07</td>\n",
       "      <td>4.289784e+07</td>\n",
       "      <td>1.115017e+08</td>\n",
       "      <td>-2.819688e+05</td>\n",
       "      <td>6.832193e+07</td>\n",
       "      <td>6.593583</td>\n",
       "      <td>12371.866310</td>\n",
       "      <td>12371.866310</td>\n",
       "      <td>220622.882353</td>\n",
       "      <td>10.343299</td>\n",
       "      <td>6.098930</td>\n",
       "      <td>1677.245989</td>\n",
       "      <td>3.427807</td>\n",
       "      <td>6.978610</td>\n",
       "    </tr>\n",
       "    <tr>\n",
       "      <td>4.0</td>\n",
       "      <td>2608.955039</td>\n",
       "      <td>50.420155</td>\n",
       "      <td>4.664672e+07</td>\n",
       "      <td>6.601089e+07</td>\n",
       "      <td>1.643294e+08</td>\n",
       "      <td>1.936416e+07</td>\n",
       "      <td>1.176827e+08</td>\n",
       "      <td>5.731783</td>\n",
       "      <td>11258.962791</td>\n",
       "      <td>11258.962791</td>\n",
       "      <td>201615.286822</td>\n",
       "      <td>12.003828</td>\n",
       "      <td>6.247287</td>\n",
       "      <td>2237.581395</td>\n",
       "      <td>3.660465</td>\n",
       "      <td>6.888372</td>\n",
       "    </tr>\n",
       "    <tr>\n",
       "      <td>5.0</td>\n",
       "      <td>3193.743860</td>\n",
       "      <td>48.428070</td>\n",
       "      <td>2.594940e+07</td>\n",
       "      <td>3.403210e+07</td>\n",
       "      <td>7.733519e+07</td>\n",
       "      <td>8.082700e+06</td>\n",
       "      <td>5.138580e+07</td>\n",
       "      <td>5.140351</td>\n",
       "      <td>11091.929825</td>\n",
       "      <td>11091.929825</td>\n",
       "      <td>216911.649123</td>\n",
       "      <td>9.675207</td>\n",
       "      <td>6.127018</td>\n",
       "      <td>1123.761404</td>\n",
       "      <td>3.589474</td>\n",
       "      <td>7.045614</td>\n",
       "    </tr>\n",
       "    <tr>\n",
       "      <td>6.0</td>\n",
       "      <td>2841.035211</td>\n",
       "      <td>52.598592</td>\n",
       "      <td>3.088022e+07</td>\n",
       "      <td>3.736225e+07</td>\n",
       "      <td>8.198843e+07</td>\n",
       "      <td>6.482037e+06</td>\n",
       "      <td>5.110821e+07</td>\n",
       "      <td>6.802817</td>\n",
       "      <td>10202.718310</td>\n",
       "      <td>10202.718310</td>\n",
       "      <td>192441.669014</td>\n",
       "      <td>9.742423</td>\n",
       "      <td>6.142254</td>\n",
       "      <td>1382.330986</td>\n",
       "      <td>3.563380</td>\n",
       "      <td>6.732394</td>\n",
       "    </tr>\n",
       "  </tbody>\n",
       "</table>\n",
       "</div>"
      ],
      "text/plain": [
       "                     index         id  production_budget  domestic_gross  \\\n",
       "release_day_1                                                              \n",
       "0.0            2563.612903  51.709677       3.560860e+07    5.561320e+07   \n",
       "1.0            2746.140845  50.521127       3.350973e+07    4.562746e+07   \n",
       "2.0            2699.434783  50.745342       4.548649e+07    6.770584e+07   \n",
       "3.0            2716.989305  51.679144       4.317981e+07    4.289784e+07   \n",
       "4.0            2608.955039  50.420155       4.664672e+07    6.601089e+07   \n",
       "5.0            3193.743860  48.428070       2.594940e+07    3.403210e+07   \n",
       "6.0            2841.035211  52.598592       3.088022e+07    3.736225e+07   \n",
       "\n",
       "               worldwide_gross  domestic_net  worldwide_net  release_month_1  \\\n",
       "release_day_1                                                                  \n",
       "0.0               1.297421e+08  2.000460e+07   9.413350e+07         6.370968   \n",
       "1.0               1.023071e+08  1.211773e+07   6.879741e+07         7.323944   \n",
       "2.0               1.615144e+08  2.221935e+07   1.160279e+08         7.204969   \n",
       "3.0               1.115017e+08 -2.819688e+05   6.832193e+07         6.593583   \n",
       "4.0               1.643294e+08  1.936416e+07   1.176827e+08         5.731783   \n",
       "5.0               7.733519e+07  8.082700e+06   5.138580e+07         5.140351   \n",
       "6.0               8.198843e+07  6.482037e+06   5.110821e+07         6.802817   \n",
       "\n",
       "                    level_0         index             id  popularity  \\\n",
       "release_day_1                                                          \n",
       "0.0            10449.685484  10449.685484  193112.000000   10.650331   \n",
       "1.0            11737.912676  11737.912676  223014.825352   10.225532   \n",
       "2.0            11267.229814  11267.229814  207870.776398   11.101578   \n",
       "3.0            12371.866310  12371.866310  220622.882353   10.343299   \n",
       "4.0            11258.962791  11258.962791  201615.286822   12.003828   \n",
       "5.0            11091.929825  11091.929825  216911.649123    9.675207   \n",
       "6.0            10202.718310  10202.718310  192441.669014    9.742423   \n",
       "\n",
       "               vote_average   vote_count  release_day_2  release_month_2  \n",
       "release_day_1                                                             \n",
       "0.0                6.156452  1776.298387       3.637097         6.629032  \n",
       "1.0                6.187606  1509.642254       3.667606         6.819718  \n",
       "2.0                6.330435  1975.950311       3.627329         6.850932  \n",
       "3.0                6.098930  1677.245989       3.427807         6.978610  \n",
       "4.0                6.247287  2237.581395       3.660465         6.888372  \n",
       "5.0                6.127018  1123.761404       3.589474         7.045614  \n",
       "6.0                6.142254  1382.330986       3.563380         6.732394  "
      ]
     },
     "execution_count": 39,
     "metadata": {},
     "output_type": "execute_result"
    }
   ],
   "source": [
    "df.groupby('release_day_1').mean()"
   ]
  },
  {
   "cell_type": "markdown",
   "metadata": {},
   "source": [
    "# Conclusion\n",
    "Friday is the best day to release a movie by far, in terms of both popularity and also worldwide gross.\n",
    "\n",
    "December is the best month to release a movie, also in terms of both popularity and worldwide gross."
   ]
  },
  {
   "cell_type": "code",
   "execution_count": null,
   "metadata": {},
   "outputs": [],
   "source": []
  }
 ],
 "metadata": {
  "kernelspec": {
   "display_name": "Python [conda env:learn-env] *",
   "language": "python",
   "name": "conda-env-learn-env-py"
  },
  "language_info": {
   "codemirror_mode": {
    "name": "ipython",
    "version": 3
   },
   "file_extension": ".py",
   "mimetype": "text/x-python",
   "name": "python",
   "nbconvert_exporter": "python",
   "pygments_lexer": "ipython3",
   "version": "3.6.9"
  }
 },
 "nbformat": 4,
 "nbformat_minor": 2
}
